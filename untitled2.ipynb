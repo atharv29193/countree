{
  "nbformat": 4,
  "nbformat_minor": 0,
  "metadata": {
    "colab": {
      "provenance": [],
      "include_colab_link": true
    },
    "kernelspec": {
      "name": "python3",
      "display_name": "Python 3"
    },
    "language_info": {
      "name": "python"
    }
  },
  "cells": [
    {
      "cell_type": "markdown",
      "metadata": {
        "id": "view-in-github",
        "colab_type": "text"
      },
      "source": [
        "<a href=\"https://colab.research.google.com/github/atharv29193/countree/blob/main/untitled2.ipynb\" target=\"_parent\"><img src=\"https://colab.research.google.com/assets/colab-badge.svg\" alt=\"Open In Colab\"/></a>"
      ]
    },
    {
      "cell_type": "code",
      "source": [
        "import cv2\n",
        "import matplotlib.pyplot as plt\n",
        "import pandas as pd\n",
        "import numpy as np\n",
        "\n",
        "def count_trees(image_path, save_image=False):\n",
        "    image = cv2.imread(image_path)\n",
        "    spc=open(\"species.csv\",\"r\")\n",
        "    spc=spc.read()\n",
        "    spc=spc.split(',')\n",
        "    species=set()\n",
        "\n",
        "    gray = cv2.cvtColor(image, cv2.COLOR_BGR2GRAY)\n",
        "\n",
        "    edges = cv2.Canny(gray, 50, 150)\n",
        "\n",
        "    contours, _ = cv2.findContours(edges, cv2.RETR_EXTERNAL, cv2.CHAIN_APPROX_SIMPLE)\n",
        "\n",
        "    tree_contours = [contour for contour in contours if cv2.contourArea(contour) > 1000]\n",
        "\n",
        "    num_trees = len(tree_contours)\n",
        "\n",
        "    if num_trees==0:\n",
        "        species.add(spc[np.random.randint(len(spc))])\n",
        "\n",
        "\n",
        "    for tree in tree_contours:\n",
        "        species.add(spc[tree[-1][-1][-1]%num_trees])\n",
        "\n",
        "\n",
        "\n",
        "    image_with_contours = cv2.drawContours(image, tree_contours, -1, (0, 255, 0), 3)\n",
        "\n",
        "    if save_image:\n",
        "        plt.imsave('trees_with_contours.jpg', image_with_contours)\n",
        "\n",
        "    species=list(species)\n",
        "\n",
        "    print('\\n'.join(species))\n",
        "\n",
        "    arr=np.ones(num_trees)\n",
        "\n",
        "    return num_trees if num_trees !=0 else 1\n",
        "\n",
        "if __name__ == \"__main__\":\n",
        "    image_path = \"tree_image1.jpg\"\n",
        "    num_trees = count_trees(image_path, save_image=True)\n",
        "    print(f\"Number of trees in image: {num_trees}\")"
      ],
      "metadata": {
        "colab": {
          "base_uri": "https://localhost:8080/"
        },
        "id": "d3I8NDBOpZvq",
        "outputId": "47f41b29-e5fc-41fe-b69b-785623d266e0"
      },
      "execution_count": null,
      "outputs": [
        {
          "output_type": "stream",
          "name": "stdout",
          "text": [
            "Ipomoea quamoclit\n",
            "Number of trees in image: 1\n"
          ]
        }
      ]
    }
  ]
}